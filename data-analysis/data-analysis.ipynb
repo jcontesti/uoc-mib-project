{
 "cells": [
  {
   "cell_type": "markdown",
   "metadata": {},
   "source": [
    "# Data analysis\n",
    "\n",
    "Sentiment:\n",
    "* If sentiment is zero, then it means neutral sentiment.\n",
    "* If sentiment is less than zero, then it means a negative sentiment.\n",
    "* And if sentiment is more than zero, then it means a positive sentiment."
   ]
  },
  {
   "cell_type": "code",
   "execution_count": null,
   "metadata": {
    "collapsed": true
   },
   "outputs": [],
   "source": [
    "from pymongo import MongoClient\n",
    "import pandas as pd\n",
    "import numpy as np\n",
    "%matplotlib inline\n",
    "import matplotlib.pyplot as plt \n",
    "plt.style.use('ggplot')\n",
    "import pprint\n",
    "\n",
    "# Connection to MongoDB\n",
    "client = MongoClient()\n",
    "db = client.twitter_data\n",
    "col = db.twitter_data\n",
    "\n",
    "# Fetch all the data\n",
    "result = col.find()\n",
    "\n",
    "# Create a Pandas dataframe\n",
    "df = pd.DataFrame(list(result))\n",
    "df.sentiment = df.sentiment.astype(float)\n",
    "df.created_at = pd.to_datetime(df.created_at)"
   ]
  },
  {
   "cell_type": "markdown",
   "metadata": {},
   "source": [
    "## Outliers removal"
   ]
  },
  {
   "cell_type": "code",
   "execution_count": null,
   "metadata": {
    "collapsed": true
   },
   "outputs": [],
   "source": [
    "countries = ('AR', 'BO', 'CR', 'EC', 'ES', 'HN', 'PY', 'VE')\n",
    "colors = {'AR': 'blue', 'BO': '#afb20c', 'CR': 'orange', \n",
    "          'EC': 'magenta', 'ES': 'red', 'HN': 'cyan', \n",
    "          'PY': 'green', 'VE': 'black'}\n",
    "\n",
    "for country in countries:\n",
    "    df_one_country = df[df.country_code == country]\n",
    "    mean_country = df_one_country.sentiment.mean()\n",
    "    std_country = df_one_country.sentiment.std()\n",
    "    outliers = df_one_country[\n",
    "        (df_one_country.sentiment < mean_country - 4 * std_country) | \n",
    "        (df_one_country.sentiment > mean_country + 4 * std_country)].id\n",
    "    df = df[~df.id.isin(outliers)]"
   ]
  },
  {
   "cell_type": "markdown",
   "metadata": {},
   "source": [
    "## Descriptive statistics "
   ]
  },
  {
   "cell_type": "markdown",
   "metadata": {},
   "source": [
    "We print the mean of sentiment per country of all time. And then all the rest of statistics related to each country."
   ]
  },
  {
   "cell_type": "code",
   "execution_count": null,
   "metadata": {},
   "outputs": [],
   "source": [
    "df.groupby(['country_code'])['sentiment'].mean().plot(kind='bar', figsize=(8,8))"
   ]
  },
  {
   "cell_type": "code",
   "execution_count": null,
   "metadata": {},
   "outputs": [],
   "source": [
    "df.groupby(['country_code'])['sentiment'].describe()"
   ]
  },
  {
   "cell_type": "markdown",
   "metadata": {},
   "source": [
    "Now, we show the density histogram of all countries."
   ]
  },
  {
   "cell_type": "code",
   "execution_count": null,
   "metadata": {
    "scrolled": false
   },
   "outputs": [],
   "source": [
    "countries = ('AR', 'BO', 'CR', 'EC', 'ES', 'HN', 'PY', 'VE')\n",
    "colors = {'AR': 'blue', 'BO': '#afb20c', 'CR': 'orange', \n",
    "          'EC': 'magenta', 'ES': 'red', 'HN': 'cyan', \n",
    "          'PY': 'green', 'VE': 'black'}\n",
    "\n",
    "import seaborn as sns\n",
    "sns.set(color_codes=True)\n",
    "\n",
    "for country in countries:\n",
    "    df_one_contry = df[df.country_code == country]\n",
    "    result = df_one_contry.sentiment\n",
    "    sns.distplot(result, hist=False, color=colors.get(country), label=country)\n",
    "    sns.plt.show()"
   ]
  },
  {
   "cell_type": "markdown",
   "metadata": {},
   "source": [
    "## Level of confidence of the means"
   ]
  },
  {
   "cell_type": "markdown",
   "metadata": {},
   "source": [
    "Here we are going to measure the level of confidence of the mean for every country."
   ]
  },
  {
   "cell_type": "code",
   "execution_count": null,
   "metadata": {},
   "outputs": [],
   "source": [
    "import statsmodels.stats.api as sms\n",
    "\n",
    "\n",
    "for country in countries:\n",
    "    df_one_contry = df[df.country_code == country]\n",
    "    result = df_one_contry.sentiment\n",
    "    print(country, ': ', df_one_contry.sentiment.mean(), sms.DescrStatsW(result).tconfint_mean())"
   ]
  },
  {
   "cell_type": "markdown",
   "metadata": {},
   "source": [
    "## General visualizations"
   ]
  },
  {
   "cell_type": "markdown",
   "metadata": {},
   "source": [
    "The next picture shows the mean of all countries per day."
   ]
  },
  {
   "cell_type": "code",
   "execution_count": null,
   "metadata": {},
   "outputs": [],
   "source": [
    "df_mean_all = pd.concat([df['created_at'].dt.month, df['created_at'].dt.day, df['sentiment']], axis=1, keys=['month', 'day', 'sentiment'])\n",
    "df_mean_all.groupby(['month', 'day'])['sentiment'].mean().plot(figsize=(8,8))"
   ]
  },
  {
   "cell_type": "code",
   "execution_count": null,
   "metadata": {},
   "outputs": [],
   "source": [
    "df_mean_all.groupby(['month', 'day'])['sentiment'].std().plot(figsize=(8,8))"
   ]
  },
  {
   "cell_type": "markdown",
   "metadata": {},
   "source": [
    "The next plot shows the mean per day and per country of all data."
   ]
  },
  {
   "cell_type": "code",
   "execution_count": null,
   "metadata": {
    "scrolled": false
   },
   "outputs": [],
   "source": [
    "for country in countries:\n",
    "    df_one_contry = df[df.country_code == country]\n",
    "    result = df_one_contry.groupby([df_one_contry.created_at.dt.month, df_one_contry.created_at.dt.day])['sentiment'].mean()\n",
    "    result.plot(label=country, legend=True, figsize=(10,10), color=colors.get(country)).set_xlabel('month, day')\n",
    "    plt.show()"
   ]
  },
  {
   "cell_type": "markdown",
   "metadata": {},
   "source": [
    "The next plot shows the mean per day and per country, only tweets with negative or positive feelings."
   ]
  },
  {
   "cell_type": "code",
   "execution_count": null,
   "metadata": {},
   "outputs": [],
   "source": [
    "for country in countries:\n",
    "    df_one_contry = df[(df.country_code == country) & (df.sentiment != 0)]\n",
    "    result = df_one_contry.groupby([df_one_contry.created_at.dt.day])['sentiment'].mean()\n",
    "    result.plot(label=country, legend=True, figsize=(10,10), color=colors.get(country)).set_xlabel('day')"
   ]
  },
  {
   "cell_type": "markdown",
   "metadata": {},
   "source": [
    "The next plot shows the mean per day and per country, with sentiment represented as 3 values (negative=-1, neutral=0, positive=+1)."
   ]
  },
  {
   "cell_type": "code",
   "execution_count": null,
   "metadata": {},
   "outputs": [],
   "source": [
    "for country in countries:\n",
    "    df_one_contry = df[df.country_code == country]\n",
    "    df_one_contry.loc[df.sentiment > 0, 'sentiment'] = 1\n",
    "    df_one_contry.loc[df.sentiment < 0, 'sentiment'] = -1\n",
    "    result = df_one_contry.groupby([df_one_contry.created_at.dt.day])['sentiment'].mean()\n",
    "    result.plot(label=country, legend=True, figsize=(10,10), color=colors.get(country)).set_xlabel('day')"
   ]
  },
  {
   "cell_type": "markdown",
   "metadata": {},
   "source": [
    "The same without neutral feelings."
   ]
  },
  {
   "cell_type": "code",
   "execution_count": null,
   "metadata": {},
   "outputs": [],
   "source": [
    "for country in countries:\n",
    "    df_one_contry = df[(df.country_code == country) & (df.sentiment != 0)]\n",
    "    df_one_contry.loc[df.sentiment > 0, 'sentiment'] = 1\n",
    "    df_one_contry.loc[df.sentiment < 0, 'sentiment'] = -1\n",
    "    result = df_one_contry.groupby([df_one_contry.created_at.dt.day])['sentiment'].mean()\n",
    "    result.plot(label=country, legend=True, figsize=(10,10), color=colors.get(country)).set_xlabel('day')"
   ]
  },
  {
   "cell_type": "markdown",
   "metadata": {},
   "source": [
    "Now, we are going to visualize the data through histograms. One per country."
   ]
  },
  {
   "cell_type": "code",
   "execution_count": null,
   "metadata": {
    "scrolled": true
   },
   "outputs": [],
   "source": [
    "for country in countries:\n",
    "    df_one_contry = df[df.country_code == country]\n",
    "    df_one_contry.hist(column='sentiment', by='country_code', color=colors.get(country))"
   ]
  }
 ],
 "metadata": {
  "kernelspec": {
   "display_name": "Python 3",
   "language": "python",
   "name": "python3"
  },
  "language_info": {
   "codemirror_mode": {
    "name": "ipython",
    "version": 3
   },
   "file_extension": ".py",
   "mimetype": "text/x-python",
   "name": "python",
   "nbconvert_exporter": "python",
   "pygments_lexer": "ipython3",
   "version": "3.5.2"
  }
 },
 "nbformat": 4,
 "nbformat_minor": 2
}
